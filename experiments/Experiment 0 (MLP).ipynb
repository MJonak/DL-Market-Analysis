{
 "cells": [
  {
   "cell_type": "markdown",
   "id": "6c89f392",
   "metadata": {},
   "source": [
    "Experiment 0 - Simple MLP\n",
    "\n",
    "The purpose of this experiment is to ensure everything works as intended. This notebook can be modified for future experiments to use different model architectures.\n",
    "\n",
    "As this is an MLP model, the idea behind this model will be looking at OHLC data patterns and making a judgement on them alone. Therefore I think the data can be shuffled and should be so that the model doesn't become biased due to specific market conditions and only looks at the overaching repeating patterns,  if there are any.\n",
    "\n",
    "This will be a regression model, finding 2 values: the next two turning points. In a high level sense this will inform us of which direction a trade should be made and the stop/loss required.  \n",
    "\n",
    "\n",
    "TODO:\n",
    "- Structure data\n",
    "    - Data will be gathered as windows of x candles, the labels will be the next two turning points, using the low value for local minima and the high value for local maxima\n",
    "- Normalise\n",
    "    - Normalising the data will be difficult. As price changes vary a lot I guess what we actually need is a % change between each value.  \n",
    "    - OK get % change between each open, then the % change of the high Low and close in relation to the open volume can stay\n",
    "- Shuffle & get train/test split \n",
    "- Define model\n",
    "- Train\n",
    "- Evaluate\n",
    "\n",
    "- Compare how the model fairs when the data is just normalised (without converting to percentage changes first)"
   ]
  },
  {
   "cell_type": "code",
   "execution_count": 1,
   "id": "78f74b62",
   "metadata": {},
   "outputs": [],
   "source": [
    "import tensorflow as tf\n",
    "import numpy as np\n",
    "from sklearn.preprocessing import MinMaxScaler\n",
    "from sklearn.model_selection import train_test_split\n",
    "from sklearn.utils import shuffle\n",
    "from pandas import read_csv\n",
    "\n",
    "srcFile = \"./Data/GBPUSD_M1.csv\"\n",
    "\n",
    "rawData = read_csv(srcFile, usecols=(1, 2, 3, 4, 5), engine='c', sep=\"\\t\",\n",
    "    dtype={\n",
    "        \"Open\": np.float32,\n",
    "        \"High\": np.float32,\n",
    "        \"Low\": np.float32,\n",
    "        \"Close\": np.float32,\n",
    "        \"Volume\": np.uint32 #16 is defienitely enough for 1-min charts, and probably for 15 min charts but any longer wont suffice, also the rest are 32 bit dtypes so may as well\n",
    "    })\n",
    "rawData = rawData.to_numpy()"
   ]
  },
  {
   "cell_type": "code",
   "execution_count": 2,
   "id": "ac3076ff",
   "metadata": {},
   "outputs": [
    {
     "data": {
      "text/plain": [
       "array([1.35341001, 1.35344005, 1.35339999, 1.35344005, 2.        ])"
      ]
     },
     "execution_count": 2,
     "metadata": {},
     "output_type": "execute_result"
    }
   ],
   "source": [
    "rawData[1, :]"
   ]
  },
  {
   "cell_type": "code",
   "execution_count": 9,
   "id": "8a1d5b42",
   "metadata": {},
   "outputs": [],
   "source": [
    "#Structuring the data\n",
    "\n",
    "def isTurningPoint(window):\n",
    "    if window[0, 2] >= window[1, 2] >=  window[2, 2]  <= window[3, 2] <= window[4, 2]:\n",
    "        return -1\n",
    "    elif window[0, 1] <= window[1, 1] <=  window[2, 1]  >= window[3, 1] >= window[4, 1]:\n",
    "        return 1\n",
    "    else:\n",
    "        return 0\n",
    "\n",
    "dataUsedForInferenceWindowSize = 5\n",
    "tpWindowSize = 5\n",
    "rows, columns = rawData.shape\n",
    "numOfSamples = rows-dataUsedForInferenceWindowSize+1\n",
    "x = np.ndarray((numOfSamples, columns, dataUsedForInferenceWindowSize))\n",
    "y = np.ndarray(numOfSamples)\n",
    "#This np array will be used to store the open as compared to the previous value, as well as the high, low and close values as compared to the open and finally the volume as is\n",
    "percentageChangeData = np.ndarray((rows-1, columns))\n",
    "for idx, row in enumerate(rawData):\n",
    "    if idx < 1: continue\n",
    "    percentageChangeSincePreviousOpen = row[0] / rawData[idx-1, 0]\n",
    "    percentageChangeData[idx-1] = [percentageChangeSincePreviousOpen, row[1]/row[0], row[2]/row[0], row[3]/row[0], row[4]]\n",
    "\n",
    "scaler = MinMaxScaler((-1, 1))\n",
    "normalisedData = scaler.fit_transform(percentageChangeData)\n",
    "\n",
    "for idx, row in enumerate(rawData):\n",
    "    if idx < dataUsedForInferenceWindowSize+1: continue\n",
    "\n",
    "    x[idx-dataUsedForInferenceWindowSize-1] = normalisedData[idx - dataUsedForInferenceWindowSize-1: idx-1, :]\n",
    "    y[idx-dataUsedForInferenceWindowSize-1] = isTurningPoint(rawData[idx - tpWindowSize//2: idx + tpWindowSize//2+1, :])\n"
   ]
  },
  {
   "cell_type": "code",
   "execution_count": 13,
   "id": "29851766",
   "metadata": {},
   "outputs": [],
   "source": [
    "#Splitting the data into training and testing sets\n",
    "\n",
    "x_train, x_test, y_train, y_test = train_test_split(x, y, test_size=0.3)\n",
    "x_val, x_test, y_val, y_test = train_test_split(x_test, y_test, test_size=0.5) "
   ]
  },
  {
   "cell_type": "code",
   "execution_count": 16,
   "id": "c8b7d64b",
   "metadata": {},
   "outputs": [
    {
     "data": {
      "text/plain": [
       "-1.0"
      ]
     },
     "execution_count": 16,
     "metadata": {},
     "output_type": "execute_result"
    }
   ],
   "source": [
    "#Define Model"
   ]
  }
 ],
 "metadata": {
  "kernelspec": {
   "display_name": "Python 3.8.2 ('dl-market-analysis-2ZhyGQPA-py3.8')",
   "language": "python",
   "name": "python3"
  },
  "language_info": {
   "codemirror_mode": {
    "name": "ipython",
    "version": 3
   },
   "file_extension": ".py",
   "mimetype": "text/x-python",
   "name": "python",
   "nbconvert_exporter": "python",
   "pygments_lexer": "ipython3",
   "version": "3.8.2"
  },
  "vscode": {
   "interpreter": {
    "hash": "0aca62df7eb5d58112661a35d470f9c2223f2dcf6d7def3d17d1b8b0639a1393"
   }
  }
 },
 "nbformat": 4,
 "nbformat_minor": 5
}
